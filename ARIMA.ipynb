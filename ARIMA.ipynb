{
  "nbformat": 4,
  "nbformat_minor": 0,
  "metadata": {
    "colab": {
      "name": "ARIMA.ipynb",
      "provenance": [],
      "collapsed_sections": [],
      "include_colab_link": true
    },
    "kernelspec": {
      "name": "python3",
      "display_name": "Python 3"
    }
  },
  "cells": [
    {
      "cell_type": "markdown",
      "metadata": {
        "id": "view-in-github",
        "colab_type": "text"
      },
      "source": [
        "<a href=\"https://colab.research.google.com/github/melisamichuki01/Statististics-with-python/blob/main/ARIMA.ipynb\" target=\"_parent\"><img src=\"https://colab.research.google.com/assets/colab-badge.svg\" alt=\"Open In Colab\"/></a>"
      ]
    },
    {
      "cell_type": "markdown",
      "metadata": {
        "id": "F-z6y1lQ5E2M"
      },
      "source": [
        "# Task One: Time Series and Explanatory Data Analysis"
      ]
    },
    {
      "cell_type": "markdown",
      "metadata": {
        "id": "6aT2Uuja9TQV"
      },
      "source": [
        "__Data and Dataset__:\n",
        "\n",
        "* Shampoo Sales Dataset : monthly number of sales of shampoo over a 3 year period.\n",
        "* Minimum Daily Temperatures Dataset : minimum daily temperatures over 10 years (1981-1990) in the city Melbourne, Australia.\n",
        "* Monthly Sunspot Dataset : monthly count of the number of observed sunspots for just over 230 years (1749-1983)."
      ]
    },
    {
      "cell_type": "code",
      "metadata": {
        "id": "ccJXzd7U7WJP"
      },
      "source": [
        "import pandas as pd\n",
        "import matplotlib.pyplot as plt\n",
        "\n",
        "df = pd.read_csv(\"/content/Sunspots.csv\", index_col= 0)"
      ],
      "execution_count": 1,
      "outputs": []
    },
    {
      "cell_type": "code",
      "metadata": {
        "id": "UN6CcBz57WRf",
        "colab": {
          "base_uri": "https://localhost:8080/",
          "height": 204
        },
        "outputId": "dad9d566-f5bb-4ba5-b6ff-5ec45660b0ad"
      },
      "source": [
        "df.head()"
      ],
      "execution_count": 2,
      "outputs": [
        {
          "output_type": "execute_result",
          "data": {
            "text/html": [
              "<div>\n",
              "<style scoped>\n",
              "    .dataframe tbody tr th:only-of-type {\n",
              "        vertical-align: middle;\n",
              "    }\n",
              "\n",
              "    .dataframe tbody tr th {\n",
              "        vertical-align: top;\n",
              "    }\n",
              "\n",
              "    .dataframe thead th {\n",
              "        text-align: right;\n",
              "    }\n",
              "</style>\n",
              "<table border=\"1\" class=\"dataframe\">\n",
              "  <thead>\n",
              "    <tr style=\"text-align: right;\">\n",
              "      <th></th>\n",
              "      <th>Date</th>\n",
              "      <th>Monthly Mean Total Sunspot Number</th>\n",
              "    </tr>\n",
              "  </thead>\n",
              "  <tbody>\n",
              "    <tr>\n",
              "      <th>0</th>\n",
              "      <td>1749-01-31</td>\n",
              "      <td>96.7</td>\n",
              "    </tr>\n",
              "    <tr>\n",
              "      <th>1</th>\n",
              "      <td>1749-02-28</td>\n",
              "      <td>104.3</td>\n",
              "    </tr>\n",
              "    <tr>\n",
              "      <th>2</th>\n",
              "      <td>1749-03-31</td>\n",
              "      <td>116.7</td>\n",
              "    </tr>\n",
              "    <tr>\n",
              "      <th>3</th>\n",
              "      <td>1749-04-30</td>\n",
              "      <td>92.8</td>\n",
              "    </tr>\n",
              "    <tr>\n",
              "      <th>4</th>\n",
              "      <td>1749-05-31</td>\n",
              "      <td>141.7</td>\n",
              "    </tr>\n",
              "  </tbody>\n",
              "</table>\n",
              "</div>"
            ],
            "text/plain": [
              "         Date  Monthly Mean Total Sunspot Number\n",
              "0  1749-01-31                               96.7\n",
              "1  1749-02-28                              104.3\n",
              "2  1749-03-31                              116.7\n",
              "3  1749-04-30                               92.8\n",
              "4  1749-05-31                              141.7"
            ]
          },
          "metadata": {
            "tags": []
          },
          "execution_count": 2
        }
      ]
    },
    {
      "cell_type": "code",
      "metadata": {
        "colab": {
          "base_uri": "https://localhost:8080/",
          "height": 238
        },
        "id": "VvLxFnMaWhYc",
        "outputId": "7b105539-96d3-49f9-d6be-8390be7aeeeb"
      },
      "source": [
        "df.plot(figsize = (16,5), grid= True)"
      ],
      "execution_count": 3,
      "outputs": [
        {
          "output_type": "execute_result",
          "data": {
            "text/plain": [
              "<matplotlib.axes._subplots.AxesSubplot at 0x7f8cd93a0fd0>"
            ]
          },
          "metadata": {
            "tags": []
          },
          "execution_count": 3
        },
        {
          "output_type": "display_data",
          "data": {
            "image/png": "[encoded data removed]",
            "text/plain": [
              "<Figure size 1152x360 with 1 Axes>"
            ]
          },
          "metadata": {
            "tags": [],
            "needs_background": "light"
          }
        }
      ]
    },
    {
      "cell_type": "code",
      "metadata": {
        "id": "HA6bNUm57XaV"
      },
      "source": [
        "df1 = pd.read_csv(\"/content/shampoo.csv\", index_col= 0)"
      ],
      "execution_count": 4,
      "outputs": []
    },
    {
      "cell_type": "code",
      "metadata": {
        "colab": {
          "base_uri": "https://localhost:8080/",
          "height": 235
        },
        "id": "toh20QG2chwr",
        "outputId": "e882c0e7-ebd0-4299-9ad2-08257130cb28"
      },
      "source": [
        "df1.head()"
      ],
      "execution_count": 5,
      "outputs": [
        {
          "output_type": "execute_result",
          "data": {
            "text/html": [
              "<div>\n",
              "<style scoped>\n",
              "    .dataframe tbody tr th:only-of-type {\n",
              "        vertical-align: middle;\n",
              "    }\n",
              "\n",
              "    .dataframe tbody tr th {\n",
              "        vertical-align: top;\n",
              "    }\n",
              "\n",
              "    .dataframe thead th {\n",
              "        text-align: right;\n",
              "    }\n",
              "</style>\n",
              "<table border=\"1\" class=\"dataframe\">\n",
              "  <thead>\n",
              "    <tr style=\"text-align: right;\">\n",
              "      <th></th>\n",
              "      <th>Sales</th>\n",
              "    </tr>\n",
              "    <tr>\n",
              "      <th>Month</th>\n",
              "      <th></th>\n",
              "    </tr>\n",
              "  </thead>\n",
              "  <tbody>\n",
              "    <tr>\n",
              "      <th>1-01</th>\n",
              "      <td>266.0</td>\n",
              "    </tr>\n",
              "    <tr>\n",
              "      <th>1-02</th>\n",
              "      <td>145.9</td>\n",
              "    </tr>\n",
              "    <tr>\n",
              "      <th>1-03</th>\n",
              "      <td>183.1</td>\n",
              "    </tr>\n",
              "    <tr>\n",
              "      <th>1-04</th>\n",
              "      <td>119.3</td>\n",
              "    </tr>\n",
              "    <tr>\n",
              "      <th>1-05</th>\n",
              "      <td>180.3</td>\n",
              "    </tr>\n",
              "  </tbody>\n",
              "</table>\n",
              "</div>"
            ],
            "text/plain": [
              "       Sales\n",
              "Month       \n",
              "1-01   266.0\n",
              "1-02   145.9\n",
              "1-03   183.1\n",
              "1-04   119.3\n",
              "1-05   180.3"
            ]
          },
          "metadata": {
            "tags": []
          },
          "execution_count": 5
        }
      ]
    },
    {
      "cell_type": "code",
      "metadata": {
        "colab": {
          "base_uri": "https://localhost:8080/",
          "height": 248
        },
        "id": "07Oiynaacmzs",
        "outputId": "328e6123-5c0f-4028-98c9-e4c4d546e803"
      },
      "source": [
        "df1.plot(figsize= (16,5))"
      ],
      "execution_count": 6,
      "outputs": [
        {
          "output_type": "execute_result",
          "data": {
            "text/plain": [
              "<matplotlib.axes._subplots.AxesSubplot at 0x7f8cd8e06d50>"
            ]
          },
          "metadata": {
            "tags": []
          },
          "execution_count": 6
        },
        {
          "output_type": "display_data",
          "data": {
            "image/png": "[encoded data removed]",
            "text/plain": [
              "<Figure size 1152x360 with 1 Axes>"
            ]
          },
          "metadata": {
            "tags": [],
            "needs_background": "light"
          }
        }
      ]
    },
    {
      "cell_type": "markdown",
      "metadata": {
        "id": "1fmHx9Q19Hny"
      },
      "source": [
        "__SARIMA(p, d, q)(P, D, Q, s):__"
      ]
    },
    {
      "cell_type": "markdown",
      "metadata": {
        "id": "HqgJ1KcY980r"
      },
      "source": [
        "* __Autoregression - AR(p):__\n",
        "Y = B0 + B1*Y_lag1 + B2*Y_lag2 + ... + Bn*Y_lagn"
      ]
    },
    {
      "cell_type": "markdown",
      "metadata": {
        "id": "wfVy_1BT-7-C"
      },
      "source": [
        "* __Moving Average - MA(q):__ Y = B0 + B1*E_lag1 + B2*E_lag2 + ... + Bn*E_lagn"
      ]
    },
    {
      "cell_type": "markdown",
      "metadata": {
        "id": "UhrDDV70-iXi"
      },
      "source": [
        "* __Integrated - (d)__: Y_forward1 - Y = B0 + B1*(Y - Y_lag1) + B2*(Y_lag1 - Y_lag2) +.."
      ]
    },
    {
      "cell_type": "markdown",
      "metadata": {
        "id": "hPWVXxuYFTCS"
      },
      "source": [
        "__Example: ARMA(1,0,1)__\n",
        "\n",
        "yt = 0.5 * yt −1 + 0.2 * ϵt−1 + ϵt"
      ]
    },
    {
      "cell_type": "code",
      "metadata": {
        "id": "gSTbJvyg7Zl7"
      },
      "source": [
        "from statsmodels.tsa.arima_process import arma_generate_sample\n",
        "\n",
        "ar_cof = [1 , 0.5]\n",
        "ma_cof = [1, 0.2]\n",
        "\n",
        "y = arma_generate_sample(ar_cof, ma_cof, nsample = 100)"
      ],
      "execution_count": 7,
      "outputs": []
    },
    {
      "cell_type": "code",
      "metadata": {
        "id": "E60fiOAp7ZwF",
        "colab": {
          "base_uri": "https://localhost:8080/",
          "height": 286
        },
        "outputId": "da72aa19-79e7-4852-c7ce-00d8a7edd436"
      },
      "source": [
        "plt.plot(y)"
      ],
      "execution_count": 8,
      "outputs": [
        {
          "output_type": "execute_result",
          "data": {
            "text/plain": [
              "[<matplotlib.lines.Line2D at 0x7f8cc93a8390>]"
            ]
          },
          "metadata": {
            "tags": []
          },
          "execution_count": 8
        },
        {
          "output_type": "display_data",
          "data": {
            "image/png": "[encoded data removed]",
            "text/plain": [
              "<Figure size 432x288 with 1 Axes>"
            ]
          },
          "metadata": {
            "tags": [],
            "needs_background": "light"
          }
        }
      ]
    },
    {
      "cell_type": "code",
      "metadata": {
        "id": "Voiqc-_j7Z-v"
      },
      "source": [
        ""
      ],
      "execution_count": 8,
      "outputs": []
    },
    {
      "cell_type": "markdown",
      "metadata": {
        "id": "jS06euiL5PGB"
      },
      "source": [
        "# Task Two: Stationarity and ADF Test\n",
        "\n",
        "## (AR + I + MA) = ARIMA(p,d,q)"
      ]
    },
    {
      "cell_type": "markdown",
      "metadata": {
        "id": "1v0vWvVq_gTc"
      },
      "source": [
        "\n",
        "- Time Series is said to be stationary if its statistical properties such as mean, variance remain constant over time \n",
        "- ADF : The augmented Dicky-Fuller test:\n",
        "\n",
        " Null Hypothesis: Series is not stationary\n",
        "\n",
        " Alternate Hypothesis: Series is stationary"
      ]
    },
    {
      "cell_type": "code",
      "metadata": {
        "id": "y-a6tmPi7c8M",
        "colab": {
          "base_uri": "https://localhost:8080/"
        },
        "outputId": "aa29bae4-6232-42d2-f3f3-a291e39d96e3"
      },
      "source": [
        "from statsmodels.tsa.stattools import adfuller\n",
        "\n",
        "adfuller(df['Monthly Mean Total Sunspot Number'])"
      ],
      "execution_count": 9,
      "outputs": [
        {
          "output_type": "execute_result",
          "data": {
            "text/plain": [
              "(-10.480868432669848,\n",
              " 1.2147141586504414e-18,\n",
              " 28,\n",
              " 3223,\n",
              " {'1%': -3.4323805665026175,\n",
              "  '10%': -2.5672475896829807,\n",
              "  '5%': -2.8624371819849372},\n",
              " 29726.17960863342)"
            ]
          },
          "metadata": {
            "tags": []
          },
          "execution_count": 9
        }
      ]
    },
    {
      "cell_type": "code",
      "metadata": {
        "id": "BkA4fxdU7dEf",
        "colab": {
          "base_uri": "https://localhost:8080/"
        },
        "outputId": "833d8bfb-2a77-4c76-97e0-667797bc0413"
      },
      "source": [
        "adfuller(df1['Sales'])"
      ],
      "execution_count": 10,
      "outputs": [
        {
          "output_type": "execute_result",
          "data": {
            "text/plain": [
              "(3.0601420836411823,\n",
              " 1.0,\n",
              " 10,\n",
              " 25,\n",
              " {'1%': -3.7238633119999998, '10%': -2.6328004, '5%': -2.98648896},\n",
              " 278.9972644263031)"
            ]
          },
          "metadata": {
            "tags": []
          },
          "execution_count": 10
        }
      ]
    },
    {
      "cell_type": "code",
      "metadata": {
        "id": "tiz49pdN7dPU"
      },
      "source": [
        ""
      ],
      "execution_count": 10,
      "outputs": []
    },
    {
      "cell_type": "markdown",
      "metadata": {
        "id": "MRwWnFg1ADRZ"
      },
      "source": [
        "__Result:__ \n",
        "\n",
        "* 0th element is test statistic ,more negative means more likely to be stationary\n",
        "\n",
        "* 1st element is p-value\n",
        "If p-value is small→reject null hypothesis. Reject non-stationary.\n",
        "\n",
        "* 2nd lags used\n",
        "\n",
        "* 3d num of observations\n",
        "\n",
        "* 4th element is the critical test statistics"
      ]
    },
    {
      "cell_type": "markdown",
      "metadata": {
        "id": "oAvEgDmMAtcQ"
      },
      "source": [
        "__Making a time series stationary:__\n",
        "Taking the difference Δyt = yt − yt−1"
      ]
    },
    {
      "cell_type": "code",
      "metadata": {
        "id": "lPMLlKIOMRLL"
      },
      "source": [
        "#df_stationary = df.diff()\n",
        "#df_stationary = df.diff().dropna()"
      ],
      "execution_count": 11,
      "outputs": []
    },
    {
      "cell_type": "code",
      "metadata": {
        "id": "KlOodumidVTn"
      },
      "source": [
        "df_stationary = df1['Sales'].diff()"
      ],
      "execution_count": 12,
      "outputs": []
    },
    {
      "cell_type": "code",
      "metadata": {
        "colab": {
          "base_uri": "https://localhost:8080/",
          "height": 296
        },
        "id": "saTETauYhcSC",
        "outputId": "e4b07ebf-caad-4d9e-d0cb-24c07fb5494d"
      },
      "source": [
        "df_stationary.plot()"
      ],
      "execution_count": 13,
      "outputs": [
        {
          "output_type": "execute_result",
          "data": {
            "text/plain": [
              "<matplotlib.axes._subplots.AxesSubplot at 0x7f8cc04c7a10>"
            ]
          },
          "metadata": {
            "tags": []
          },
          "execution_count": 13
        },
        {
          "output_type": "display_data",
          "data": {
            "image/png": "[encoded data removed]",
            "text/plain": [
              "<Figure size 432x288 with 1 Axes>"
            ]
          },
          "metadata": {
            "tags": [],
            "needs_background": "light"
          }
        }
      ]
    },
    {
      "cell_type": "markdown",
      "metadata": {
        "id": "iDRKaIbPBLmd"
      },
      "source": [
        "__Examples of other transforms:__\n",
        "\n",
        "Take the log\n",
        "np.log(df)\n",
        "\n",
        "Take the square root\n",
        "np.sqrt(df)\n",
        "\n",
        "Take the proportional change\n",
        "df.shift(1)/df"
      ]
    },
    {
      "cell_type": "markdown",
      "metadata": {
        "id": "EGYoWiNQ5S9m"
      },
      "source": [
        "# Task Three: Autocorrelation, ACF and PACF\n"
      ]
    },
    {
      "cell_type": "markdown",
      "metadata": {
        "id": "5_7-4yyIFXlY"
      },
      "source": [
        "__ACF:__ Autocorrelation Function\n",
        "\n",
        "__PACF:__  Partial autocorrelation function"
      ]
    },
    {
      "cell_type": "code",
      "metadata": {
        "id": "VkgxArfLFwME",
        "colab": {
          "base_uri": "https://localhost:8080/",
          "height": 809
        },
        "outputId": "94e6469b-1740-46a1-b0f7-3f84db7b6f1f"
      },
      "source": [
        "from statsmodels.graphics.tsaplots import plot_acf, plot_pacf\n",
        "\n",
        "plot_acf(df['Monthly Mean Total Sunspot Number'].tolist(), lags = 100)\n",
        "plot_pacf(df['Monthly Mean Total Sunspot Number'].tolist(), lags = 100)"
      ],
      "execution_count": 14,
      "outputs": [
        {
          "output_type": "execute_result",
          "data": {
            "image/png": "[encoded data removed]",
            "text/plain": [
              "<Figure size 432x288 with 1 Axes>"
            ]
          },
          "metadata": {
            "tags": []
          },
          "execution_count": 14
        },
        {
          "output_type": "display_data",
          "data": {
            "image/png": "[encoded data removed]",
            "text/plain": [
              "<Figure size 432x288 with 1 Axes>"
            ]
          },
          "metadata": {
            "tags": [],
            "needs_background": "light"
          }
        },
        {
          "output_type": "display_data",
          "data": {
            "image/png": "[encoded data removed]",
            "text/plain": [
              "<Figure size 432x288 with 1 Axes>"
            ]
          },
          "metadata": {
            "tags": [],
            "needs_background": "light"
          }
        }
      ]
    },
    {
      "cell_type": "markdown",
      "metadata": {
        "id": "oR8FjJup5Wy3"
      },
      "source": [
        "# Task Four: ARIMA Model"
      ]
    },
    {
      "cell_type": "code",
      "metadata": {
        "id": "MkAWAgte7okE"
      },
      "source": [
        "Train = df.iloc[:2000, 1]\n",
        "Test = df.iloc[2000:, 1]"
      ],
      "execution_count": 15,
      "outputs": []
    },
    {
      "cell_type": "code",
      "metadata": {
        "id": "sTpd4LsM7orY",
        "colab": {
          "base_uri": "https://localhost:8080/"
        },
        "outputId": "6181f35c-7481-4999-ea70-8c2839ba9fed"
      },
      "source": [
        "Train"
      ],
      "execution_count": 16,
      "outputs": [
        {
          "output_type": "execute_result",
          "data": {
            "text/plain": [
              "0        96.7\n",
              "1       104.3\n",
              "2       116.7\n",
              "3        92.8\n",
              "4       141.7\n",
              "        ...  \n",
              "1995     68.9\n",
              "1996     55.1\n",
              "1997    114.7\n",
              "1998    119.4\n",
              "1999    116.0\n",
              "Name: Monthly Mean Total Sunspot Number, Length: 2000, dtype: float64"
            ]
          },
          "metadata": {
            "tags": []
          },
          "execution_count": 16
        }
      ]
    },
    {
      "cell_type": "code",
      "metadata": {
        "id": "TdXivKdS7owL",
        "colab": {
          "base_uri": "https://localhost:8080/"
        },
        "outputId": "b08021e0-ef5b-479d-ed9c-6909d0bfd777"
      },
      "source": [
        "Train = [x for x in Train]\n",
        "Test = [x for x in Train]\n",
        "Train"
      ],
      "execution_count": 17,
      "outputs": [
        {
          "output_type": "execute_result",
          "data": {
            "text/plain": [
              "[96.7,\n",
              " 104.3,\n",
              " 116.7,\n",
              " 92.8,\n",
              " 141.7,\n",
              " 139.2,\n",
              " 158.0,\n",
              " 110.5,\n",
              " 126.5,\n",
              " 125.8,\n",
              " 264.3,\n",
              " 142.0,\n",
              " 122.2,\n",
              " 126.5,\n",
              " 148.7,\n",
              " 147.2,\n",
              " 150.0,\n",
              " 166.7,\n",
              " 142.3,\n",
              " 171.7,\n",
              " 152.0,\n",
              " 109.5,\n",
              " 105.5,\n",
              " 125.7,\n",
              " 116.7,\n",
              " 72.5,\n",
              " 75.5,\n",
              " 94.0,\n",
              " 101.2,\n",
              " 84.5,\n",
              " 110.5,\n",
              " 99.7,\n",
              " 39.2,\n",
              " 38.7,\n",
              " 47.5,\n",
              " 73.3,\n",
              " 58.3,\n",
              " 83.3,\n",
              " 118.3,\n",
              " 98.8,\n",
              " 99.5,\n",
              " 66.0,\n",
              " 130.7,\n",
              " 48.8,\n",
              " 45.2,\n",
              " 77.7,\n",
              " 62.7,\n",
              " 66.7,\n",
              " 73.3,\n",
              " 53.3,\n",
              " 76.2,\n",
              " 63.3,\n",
              " 60.0,\n",
              " 52.8,\n",
              " 36.7,\n",
              " 65.0,\n",
              " 46.7,\n",
              " 41.7,\n",
              " 33.3,\n",
              " 11.2,\n",
              " 0.0,\n",
              " 5.0,\n",
              " 2.8,\n",
              " 22.8,\n",
              " 34.5,\n",
              " 44.5,\n",
              " 31.3,\n",
              " 20.5,\n",
              " 13.7,\n",
              " 40.2,\n",
              " 22.0,\n",
              " 7.0,\n",
              " 17.0,\n",
              " 18.7,\n",
              " 11.3,\n",
              " 10.8,\n",
              " 0.0,\n",
              " 0.0,\n",
              " 14.3,\n",
              " 5.3,\n",
              " 29.7,\n",
              " 39.5,\n",
              " 11.3,\n",
              " 33.3,\n",
              " 20.8,\n",
              " 11.8,\n",
              " 9.0,\n",
              " 15.7,\n",
              " 20.8,\n",
              " 21.5,\n",
              " 6.0,\n",
              " 10.7,\n",
              " 19.7,\n",
              " 23.8,\n",
              " 28.3,\n",
              " 15.7,\n",
              " 23.5,\n",
              " 35.3,\n",
              " 43.7,\n",
              " 50.0,\n",
              " 63.5,\n",
              " 21.3,\n",
              " 41.7,\n",
              " 85.5,\n",
              " 66.2,\n",
              " 54.2,\n",
              " 107.8,\n",
              " 55.8,\n",
              " 62.7,\n",
              " 86.7,\n",
              " 81.7,\n",
              " 120.5,\n",
              " 77.3,\n",
              " 75.0,\n",
              " 73.3,\n",
              " 64.5,\n",
              " 104.2,\n",
              " 62.8,\n",
              " 71.7,\n",
              " 71.7,\n",
              " 80.5,\n",
              " 73.3,\n",
              " 78.0,\n",
              " 78.3,\n",
              " 81.7,\n",
              " 83.3,\n",
              " 85.0,\n",
              " 118.8,\n",
              " 128.7,\n",
              " 99.5,\n",
              " 77.2,\n",
              " 95.0,\n",
              " 112.2,\n",
              " 99.2,\n",
              " 124.5,\n",
              " 97.2,\n",
              " 120.0,\n",
              " 80.5,\n",
              " 110.0,\n",
              " 126.0,\n",
              " 102.2,\n",
              " 84.3,\n",
              " 99.5,\n",
              " 101.7,\n",
              " 116.7,\n",
              " 151.7,\n",
              " 134.5,\n",
              " 119.5,\n",
              " 178.7,\n",
              " 165.5,\n",
              " 156.8,\n",
              " 151.8,\n",
              " 167.8,\n",
              " 147.8,\n",
              " 149.5,\n",
              " 76.7,\n",
              " 73.0,\n",
              " 121.3,\n",
              " 76.2,\n",
              " 100.3,\n",
              " 66.5,\n",
              " 128.5,\n",
              " 56.3,\n",
              " 112.8,\n",
              " 114.2,\n",
              " 115.5,\n",
              " 129.7,\n",
              " 128.7,\n",
              " 94.2,\n",
              " 53.2,\n",
              " 57.0,\n",
              " 54.8,\n",
              " 54.5,\n",
              " 59.7,\n",
              " 90.3,\n",
              " 44.2,\n",
              " 113.5,\n",
              " 77.2,\n",
              " 101.5,\n",
              " 102.3,\n",
              " 99.5,\n",
              " 99.5,\n",
              " 67.0,\n",
              " 57.3,\n",
              " 73.8,\n",
              " 50.0,\n",
              " 50.0,\n",
              " 50.0,\n",
              " 47.0,\n",
              " 46.7,\n",
              " 43.3,\n",
              " 42.8,\n",
              " 40.0,\n",
              " 43.3,\n",
              " 41.7,\n",
              " 36.7,\n",
              " 33.7,\n",
              " 33.3,\n",
              " 45.0,\n",
              " 49.5,\n",
              " 26.7,\n",
              " 23.3,\n",
              " 23.3,\n",
              " 21.7,\n",
              " 20.0,\n",
              " 18.3,\n",
              " 61.0,\n",
              " 10.0,\n",
              " 44.7,\n",
              " 5.0,\n",
              " 5.5,\n",
              " 6.7,\n",
              " 7.2,\n",
              " 8.3,\n",
              " 9.5,\n",
              " 32.0,\n",
              " 45.7,\n",
              " 50.0,\n",
              " 71.7,\n",
              " 54.8,\n",
              " 49.7,\n",
              " 55.5,\n",
              " 36.5,\n",
              " 68.0,\n",
              " 71.2,\n",
              " 73.5,\n",
              " 91.2,\n",
              " 88.8,\n",
              " 89.2,\n",
              " 110.2,\n",
              " 77.2,\n",
              " 71.2,\n",
              " 129.5,\n",
              " 129.0,\n",
              " 87.7,\n",
              " 111.3,\n",
              " 124.7,\n",
              " 129.7,\n",
              " 151.0,\n",
              " 186.3,\n",
              " 123.2,\n",
              " 107.0,\n",
              " 107.2,\n",
              " 161.2,\n",
              " 122.7,\n",
              " 157.3,\n",
              " 197.7,\n",
              " 200.5,\n",
              " 248.0,\n",
              " 263.7,\n",
              " 246.8,\n",
              " 186.7,\n",
              " 173.3,\n",
              " 237.5,\n",
              " 133.5,\n",
              " 85.0,\n",
              " 116.8,\n",
              " 138.8,\n",
              " 183.0,\n",
              " 210.5,\n",
              " 174.0,\n",
              " 172.7,\n",
              " 220.3,\n",
              " 170.5,\n",
              " 60.0,\n",
              " 77.0,\n",
              " 77.8,\n",
              " 108.2,\n",
              " 254.5,\n",
              " 199.2,\n",
              " 112.8,\n",
              " 97.5,\n",
              " 169.0,\n",
              " 150.0,\n",
              " 166.2,\n",
              " 159.5,\n",
              " 168.2,\n",
              " 151.3,\n",
              " 51.8,\n",
              " 153.7,\n",
              " 63.3,\n",
              " 95.0,\n",
              " 128.8,\n",
              " 93.7,\n",
              " 84.2,\n",
              " 131.0,\n",
              " 102.2,\n",
              " 106.7,\n",
              " 91.0,\n",
              " 48.3,\n",
              " 85.3,\n",
              " 54.8,\n",
              " 68.5,\n",
              " 47.3,\n",
              " 46.2,\n",
              " 21.2,\n",
              " 48.8,\n",
              " 43.8,\n",
              " 68.2,\n",
              " 72.0,\n",
              " 78.0,\n",
              " 109.0,\n",
              " 92.8,\n",
              " 73.0,\n",
              " 85.5,\n",
              " 47.5,\n",
              " 29.2,\n",
              " 11.0,\n",
              " 13.2,\n",
              " 23.3,\n",
              " 29.5,\n",
              " 20.3,\n",
              " 7.3,\n",
              " 0.0,\n",
              " 19.3,\n",
              " 18.7,\n",
              " 6.5,\n",
              " 20.5,\n",
              " 1.7,\n",
              " 13.2,\n",
              " 5.3,\n",
              " 9.3,\n",
              " 25.2,\n",
              " 13.2,\n",
              " 36.2,\n",
              " 19.3,\n",
              " 10.5,\n",
              " 36.3,\n",
              " 18.7,\n",
              " 31.7,\n",
              " 1.7,\n",
              " 40.3,\n",
              " 26.7,\n",
              " 50.0,\n",
              " 58.3,\n",
              " 66.7,\n",
              " 75.0,\n",
              " 60.8,\n",
              " 65.0,\n",
              " 159.2,\n",
              " 133.8,\n",
              " 134.5,\n",
              " 158.3,\n",
              " 186.7,\n",
              " 193.7,\n",
              " 177.5,\n",
              " 243.3,\n",
              " 262.2,\n",
              " 295.5,\n",
              " 182.2,\n",
              " 223.3,\n",
              " 241.7,\n",
              " 398.2,\n",
              " 286.0,\n",
              " 255.0,\n",
              " 233.3,\n",
              " 286.2,\n",
              " 260.5,\n",
              " 250.5,\n",
              " 175.0,\n",
              " 191.2,\n",
              " 276.2,\n",
              " 196.7,\n",
              " 241.7,\n",
              " 233.3,\n",
              " 189.5,\n",
              " 238.3,\n",
              " 186.7,\n",
              " 185.0,\n",
              " 206.7,\n",
              " 190.0,\n",
              " 183.3,\n",
              " 116.7,\n",
              " 163.3,\n",
              " 163.3,\n",
              " 158.3,\n",
              " 178.7,\n",
              " 146.7,\n",
              " 143.3,\n",
              " 143.3,\n",
              " 156.2,\n",
              " 128.3,\n",
              " 100.0,\n",
              " 97.8,\n",
              " 164.5,\n",
              " 124.5,\n",
              " 88.3,\n",
              " 113.8,\n",
              " 174.5,\n",
              " 162.8,\n",
              " 122.5,\n",
              " 110.0,\n",
              " 85.0,\n",
              " 45.5,\n",
              " 111.7,\n",
              " 58.7,\n",
              " 90.0,\n",
              " 62.5,\n",
              " 61.7,\n",
              " 68.3,\n",
              " 90.5,\n",
              " 63.3,\n",
              " 61.7,\n",
              " 73.3,\n",
              " 56.7,\n",
              " 38.7,\n",
              " 52.5,\n",
              " 50.0,\n",
              " 46.7,\n",
              " 64.5,\n",
              " 44.5,\n",
              " 47.2,\n",
              " 38.3,\n",
              " 42.0,\n",
              " 53.7,\n",
              " 33.3,\n",
              " 30.0,\n",
              " 13.3,\n",
              " 25.0,\n",
              " 17.5,\n",
              " 21.7,\n",
              " 13.3,\n",
              " 18.3,\n",
              " 16.7,\n",
              " 10.0,\n",
              " 15.0,\n",
              " 10.0,\n",
              " 16.7,\n",
              " 16.7,\n",
              " 13.3,\n",
              " 28.3,\n",
              " 23.3,\n",
              " 10.8,\n",
              " 13.3,\n",
              " 15.0,\n",
              " 26.2,\n",
              " 34.5,\n",
              " 43.8,\n",
              " 60.5,\n",
              " 33.3,\n",
              " 53.3,\n",
              " 78.7,\n",
              " 67.0,\n",
              " 45.5,\n",
              " 62.0,\n",
              " 79.3,\n",
              " 79.5,\n",
              " 142.3,\n",
              " 153.8,\n",
              " 98.3,\n",
              " 138.3,\n",
              " 149.5,\n",
              " 185.8,\n",
              " 187.2,\n",
              " 193.3,\n",
              " 187.8,\n",
              " 224.5,\n",
              " 176.7,\n",
              " 145.7,\n",
              " 212.0,\n",
              " 224.7,\n",
              " 165.3,\n",
              " 213.3,\n",
              " 228.7,\n",
              " 262.2,\n",
              " 261.7,\n",
              " 235.8,\n",
              " 290.0,\n",
              " 230.0,\n",
              " 215.3,\n",
              " 238.8,\n",
              " 180.8,\n",
              " 188.3,\n",
              " 257.0,\n",
              " 235.8,\n",
              " 226.7,\n",
              " 235.0,\n",
              " 236.7,\n",
              " 157.8,\n",
              " 215.8,\n",
              " 190.0,\n",
              " 208.8,\n",
              " 200.0,\n",
              " 205.5,\n",
              " 205.8,\n",
              " 200.0,\n",
              " 195.0,\n",
              " 171.7,\n",
              " 186.7,\n",
              " 149.5,\n",
              " 223.3,\n",
              " 225.8,\n",
              " 171.7,\n",
              " 212.5,\n",
              " 160.5,\n",
              " 156.7,\n",
              " 155.0,\n",
              " 151.7,\n",
              " 115.5,\n",
              " 145.0,\n",
              " 128.8,\n",
              " 140.5,\n",
              " 136.7,\n",
              " 123.3,\n",
              " 121.2,\n",
              " 103.3,\n",
              " 123.3,\n",
              " 128.7,\n",
              " 122.8,\n",
              " 107.0,\n",
              " 118.3,\n",
              " 71.7,\n",
              " 110.8,\n",
              " 102.8,\n",
              " 111.7,\n",
              " 110.0,\n",
              " 96.7,\n",
              " 106.7,\n",
              " 105.0,\n",
              " 126.2,\n",
              " 103.3,\n",
              " 101.7,\n",
              " 76.3,\n",
              " 100.0,\n",
              " 98.3,\n",
              " 98.3,\n",
              " 95.0,\n",
              " 93.3,\n",
              " 93.3,\n",
              " 91.7,\n",
              " 92.5,\n",
              " 88.3,\n",
              " 87.2,\n",
              " 85.0,\n",
              " 83.3,\n",
              " 48.8,\n",
              " 40.0,\n",
              " 78.3,\n",
              " 73.3,\n",
              " 76.2,\n",
              " 75.0,\n",
              " 73.3,\n",
              " 63.3,\n",
              " 47.3,\n",
              " 92.8,\n",
              " 69.2,\n",
              " 68.3,\n",
              " 66.7,\n",
              " 18.5,\n",
              " 47.5,\n",
              " 112.3,\n",
              " 85.7,\n",
              " 35.7,\n",
              " 66.5,\n",
              " 21.0,\n",
              " 31.0,\n",
              " 51.7,\n",
              " 28.5,\n",
              " 21.5,\n",
              " 42.8,\n",
              " 22.5,\n",
              " 32.5,\n",
              " 41.7,\n",
              " 30.0,\n",
              " 36.7,\n",
              " 39.7,\n",
              " 26.2,\n",
              " 52.8,\n",
              " 35.0,\n",
              " 11.2,\n",
              " 44.8,\n",
              " 2.5,\n",
              " 30.7,\n",
              " 18.3,\n",
              " 14.0,\n",
              " 8.5,\n",
              " 24.0,\n",
              " 7.0,\n",
              " 6.7,\n",
              " 6.7,\n",
              " 12.2,\n",
              " 18.5,\n",
              " 7.2,\n",
              " 10.0,\n",
              " 9.5,\n",
              " 11.5,\n",
              " 9.7,\n",
              " 5.0,\n",
              " 3.3,\n",
              " 6.7,\n",
              " 20.7,\n",
              " 1.8,\n",
              " 0.0,\n",
              " 0.0,\n",
              " 0.0,\n",
              " 5.0,\n",
              " 4.0,\n",
              " 2.5,\n",
              " 20.8,\n",
              " 16.5,\n",
              " 2.7,\n",
              " 21.0,\n",
              " 36.2,\n",
              " 14.0,\n",
              " 13.7,\n",
              " 17.7,\n",
              " 3.5,\n",
              " 0.0,\n",
              " 0.0,\n",
              " 7.7,\n",
              " 4.5,\n",
              " 14.3,\n",
              " 11.5,\n",
              " 15.5,\n",
              " 23.2,\n",
              " 0.0,\n",
              " 8.3,\n",
              " 39.5,\n",
              " 35.0,\n",
              " 32.5,\n",
              " 19.2,\n",
              " 20.5,\n",
              " 17.5,\n",
              " 66.8,\n",
              " 45.0,\n",
              " 48.3,\n",
              " 50.0,\n",
              " 51.7,\n",
              " 53.3,\n",
              " 52.0,\n",
              " 58.3,\n",
              " 64.5,\n",
              " 55.8,\n",
              " 54.3,\n",
              " 66.3,\n",
              " 80.3,\n",
              " 79.7,\n",
              " 78.3,\n",
              " 68.0,\n",
              " 70.0,\n",
              " 73.3,\n",
              " 76.7,\n",
              " 80.0,\n",
              " 83.3,\n",
              " 86.3,\n",
              " 64.2,\n",
              " 57.5,\n",
              " 83.3,\n",
              " 83.3,\n",
              " 84.7,\n",
              " 49.2,\n",
              " 41.7,\n",
              " 73.8,\n",
              " 60.0,\n",
              " 80.5,\n",
              " 56.8,\n",
              " 75.5,\n",
              " 90.5,\n",
              " 85.0,\n",
              " 80.0,\n",
              " 75.5,\n",
              " 80.5,\n",
              " 80.0,\n",
              " 84.3,\n",
              " 55.7,\n",
              " 58.0,\n",
              " 49.7,\n",
              " 71.8,\n",
              " 88.3,\n",
              " 103.8,\n",
              " 101.7,\n",
              " 100.0,\n",
              " 101.7,\n",
              " 73.5,\n",
              " 85.7,\n",
              " 62.5,\n",
              " 65.0,\n",
              " 67.5,\n",
              " 62.7,\n",
              " 71.2,\n",
              " 74.0,\n",
              " 49.0,\n",
              " 68.3,\n",
              " 63.8,\n",
              " 65.0,\n",
              " 49.3,\n",
              " 54.5,\n",
              " 46.2,\n",
              " 44.0,\n",
              " 42.7,\n",
              " 50.0,\n",
              " 43.8,\n",
              " 40.0,\n",
              " 45.0,\n",
              " 41.7,\n",
              " 40.0,\n",
              " 20.0,\n",
              " 20.3,\n",
              " 16.0,\n",
              " 39.7,\n",
              " 16.7,\n",
              " 20.0,\n",
              " 21.2,\n",
              " 20.0,\n",
              " 9.5,\n",
              " 13.3,\n",
              " 4.3,\n",
              " 0.0,\n",
              " 0.0,\n",
              " 7.5,\n",
              " 0.0,\n",
              " 20.5,\n",
              " 22.5,\n",
              " 22.5,\n",
              " 11.2,\n",
              " 13.3,\n",
              " 19.5,\n",
              " 7.8,\n",
              " 17.5,\n",
              " 20.5,\n",
              " 12.0,\n",
              " 15.3,\n",
              " 1.5,\n",
              " 4.2,\n",
              " 3.3,\n",
              " 12.8,\n",
              " 0.5,\n",
              " 0.3,\n",
              " 0.7,\n",
              " 0.0,\n",
              " 0.0,\n",
              " 0.0,\n",
              " 0.0,\n",
              " 0.0,\n",
              " 0.0,\n",
              " 0.0,\n",
              " 0.0,\n",
              " 0.0,\n",
              " 0.0,\n",
              " 0.0,\n",
              " 0.0,\n",
              " 0.0,\n",
              " 0.0,\n",
              " 0.0,\n",
              " 0.0,\n",
              " 0.0,\n",
              " 0.0,\n",
              " 0.0,\n",
              " 0.0,\n",
              " 0.0,\n",
              " 11.0,\n",
              " 0.0,\n",
              " 4.0,\n",
              " 10.2,\n",
              " 1.3,\n",
              " 1.8,\n",
              " 18.8,\n",
              " 3.2,\n",
              " 1.2,\n",
              " 0.0,\n",
              " 1.7,\n",
              " 2.2,\n",
              " 0.8,\n",
              " 26.0,\n",
              " 8.7,\n",
              " 6.5,\n",
              " 13.2,\n",
              " 16.8,\n",
              " 0.0,\n",
              " 17.2,\n",
              " 3.2,\n",
              " 27.7,\n",
              " 9.2,\n",
              " 18.7,\n",
              " 30.5,\n",
              " 14.0,\n",
              " 25.5,\n",
              " 46.3,\n",
              " 27.8,\n",
              " 23.8,\n",
              " 37.0,\n",
              " 20.0,\n",
              " 9.5,\n",
              " 39.7,\n",
              " 9.7,\n",
              " 24.8,\n",
              " 30.8,\n",
              " 3.8,\n",
              " 13.5,\n",
              " 32.2,\n",
              " 24.2,\n",
              " 33.5,\n",
              " 32.0,\n",
              " 53.7,\n",
              " 43.7,\n",
              " 52.7,\n",
              " 16.3,\n",
              " 93.2,\n",
              " 59.2,\n",
              " 78.7,\n",
              " 52.5,\n",
              " 55.8,\n",
              " 62.0,\n",
              " 108.3,\n",
              " 43.8,\n",
              " 114.7,\n",
              " 122.8,\n",
              " 98.0,\n",
              " 73.8,\n",
              " 72.7,\n",
              " 64.7,\n",
              " 38.7,\n",
              " 79.7,\n",
              " 94.0,\n",
              " 63.5,\n",
              " 49.8,\n",
              " 60.7,\n",
              " 96.5,\n",
              " 160.3,\n",
              " 44.0,\n",
              " 35.3,\n",
              " 66.7,\n",
              " 83.3,\n",
              " 75.0,\n",
              " 61.2,\n",
              " 42.7,\n",
              " 48.2,\n",
              " 47.3,\n",
              " 58.1,\n",
              " 37.4,\n",
              " 42.4,\n",
              " 57.5,\n",
              " 88.5,\n",
              " 60.8,\n",
              " 46.8,\n",
              " 52.6,\n",
              " 43.4,\n",
              " 52.8,\n",
              " 18.3,\n",
              " 43.0,\n",
              " 54.7,\n",
              " 34.6,\n",
              " 6.3,\n",
              " 33.7,\n",
              " 32.6,\n",
              " 58.3,\n",
              " 52.5,\n",
              " 43.5,\n",
              " 24.8,\n",
              " 45.9,\n",
              " 41.8,\n",
              " 50.9,\n",
              " 32.0,\n",
              " 44.4,\n",
              " 7.5,\n",
              " 32.3,\n",
              " 48.9,\n",
              " 17.9,\n",
              " 34.1,\n",
              " 43.1,\n",
              " 8.6,\n",
              " 14.9,\n",
              " 13.2,\n",
              " 15.1,\n",
              " 36.0,\n",
              " 7.0,\n",
              " 9.5,\n",
              " 15.2,\n",
              " 2.8,\n",
              " 3.0,\n",
              " 4.3,\n",
              " 8.0,\n",
              " 7.3,\n",
              " 31.4,\n",
              " 7.3,\n",
              " 0.4,\n",
              " 0.0,\n",
              " 1.5,\n",
              " 26.9,\n",
              " 21.7,\n",
              " 2.4,\n",
              " 9.3,\n",
              " 13.2,\n",
              " 3.4,\n",
              " 0.0,\n",
              " 0.6,\n",
              " 0.0,\n",
              " 0.0,\n",
              " 0.0,\n",
              " 0.0,\n",
              " 1.0,\n",
              " 0.0,\n",
              " 0.0,\n",
              " 0.0,\n",
              " 0.8,\n",
              " 0.0,\n",
              " 0.0,\n",
              " 0.0,\n",
              " 0.0,\n",
              " 34.0,\n",
              " 36.0,\n",
              " 18.0,\n",
              " 0.0,\n",
              " 32.3,\n",
              " 4.6,\n",
              " 0.0,\n",
              " 0.0,\n",
              " 2.3,\n",
              " 34.3,\n",
              " 42.0,\n",
              " 0.0,\n",
              " 1.4,\n",
              " 8.4,\n",
              " 25.9,\n",
              " 37.4,\n",
              " 6.2,\n",
              " 25.8,\n",
              " 25.6,\n",
              " 51.5,\n",
              " 42.8,\n",
              " 26.2,\n",
              " 26.0,\n",
              " 19.6,\n",
              " 36.7,\n",
              " 29.4,\n",
              " 30.2,\n",
              " 61.3,\n",
              " 40.0,\n",
              " 53.9,\n",
              " 61.7,\n",
              " 87.5,\n",
              " 66.0,\n",
              " 31.6,\n",
              " 84.4,\n",
              " 65.8,\n",
              " 113.6,\n",
              " 57.7,\n",
              " 79.0,\n",
              " 96.3,\n",
              " 76.7,\n",
              " 93.8,\n",
              " 94.4,\n",
              " 70.4,\n",
              " 89.4,\n",
              " 82.6,\n",
              " 93.5,\n",
              " 80.4,\n",
              " 76.8,\n",
              " 88.0,\n",
              " 107.3,\n",
              " 108.5,\n",
              " 101.9,\n",
              " 148.6,\n",
              " 163.4,\n",
              " 90.4,\n",
              " 127.3,\n",
              " 83.9,\n",
              " 91.1,\n",
              " 95.0,\n",
              " 78.1,\n",
              " 71.6,\n",
              " 82.3,\n",
              " 120.6,\n",
              " 158.4,\n",
              " 112.3,\n",
              " 123.2,\n",
              " 151.5,\n",
              " 129.3,\n",
              " 88.0,\n",
              " 95.3,\n",
              " 112.7,\n",
              " 94.1,\n",
              " 87.0,\n",
              " 120.1,\n",
              " 141.0,\n",
              " 177.3,\n",
              " 110.5,\n",
              " 108.4,\n",
              " 73.2,\n",
              " 84.6,\n",
              " 103.4,\n",
              " 140.6,\n",
              " 135.4,\n",
              " 136.8,\n",
              " 79.0,\n",
              " 83.6,\n",
              " 155.8,\n",
              " 90.9,\n",
              " 63.4,\n",
              " 55.6,\n",
              " 75.4,\n",
              " 91.6,\n",
              " 63.2,\n",
              " 77.1,\n",
              " 72.5,\n",
              " 48.3,\n",
              " 51.5,\n",
              " 92.6,\n",
              " 91.9,\n",
              " 44.8,\n",
              " ...]"
            ]
          },
          "metadata": {
            "tags": []
          },
          "execution_count": 17
        }
      ]
    },
    {
      "cell_type": "code",
      "metadata": {
        "id": "I4xq1aoi7ozd",
        "colab": {
          "base_uri": "https://localhost:8080/",
          "height": 649
        },
        "outputId": "90033fcf-274d-49c7-89bf-3cf1b7226617"
      },
      "source": [
        "from statsmodels.tsa.arima_model import ARIMA\n",
        "\n",
        "pred = []\n",
        "low_bound = []\n",
        "up_bound =  []\n",
        "\n",
        "for data in range(len(Test)):\n",
        "  model = ARIMA(Train, order= (5,0,2))\n",
        "  model_fit = model.fit()\n",
        "  out = model_fit.forecast()\n",
        "\n",
        "  result = out[0]\n",
        "  lower = out[2][0][0]\n",
        "  upper = out[2][0][1]\n",
        "\n",
        "  pred.append(result)\n",
        "  low_bound.append(lower)\n",
        "  up_bound.append(upper)\n",
        "\n",
        "  obs = Test[data]\n",
        "  Train.append(obs)\n",
        "\n",
        "  print('Actual value:', obs, 'Prediction:', result)\n",
        "\n",
        "\n",
        "\n"
      ],
      "execution_count": 62,
      "outputs": [
        {
          "output_type": "stream",
          "text": [
            "/usr/local/lib/python3.7/dist-packages/statsmodels/tsa/tsatools.py:668: RuntimeWarning: overflow encountered in exp\n",
            "  newparams = ((1-np.exp(-params))/(1+np.exp(-params))).copy()\n",
            "/usr/local/lib/python3.7/dist-packages/statsmodels/tsa/tsatools.py:668: RuntimeWarning: invalid value encountered in true_divide\n",
            "  newparams = ((1-np.exp(-params))/(1+np.exp(-params))).copy()\n",
            "/usr/local/lib/python3.7/dist-packages/statsmodels/tsa/tsatools.py:669: RuntimeWarning: overflow encountered in exp\n",
            "  tmp = ((1-np.exp(-params))/(1+np.exp(-params))).copy()\n",
            "/usr/local/lib/python3.7/dist-packages/statsmodels/tsa/tsatools.py:669: RuntimeWarning: invalid value encountered in true_divide\n",
            "  tmp = ((1-np.exp(-params))/(1+np.exp(-params))).copy()\n"
          ],
          "name": "stderr"
        },
        {
          "output_type": "stream",
          "text": [
            "Actual value: 96.7 Prediction: [18.54371184]\n"
          ],
          "name": "stdout"
        },
        {
          "output_type": "error",
          "ename": "KeyboardInterrupt",
          "evalue": "ignored",
          "traceback": [
            "\u001b[0;31m---------------------------------------------------------------------------\u001b[0m",
            "\u001b[0;31mKeyboardInterrupt\u001b[0m                         Traceback (most recent call last)",
            "\u001b[0;32m<ipython-input-62-204776b5536b>\u001b[0m in \u001b[0;36m<module>\u001b[0;34m()\u001b[0m\n\u001b[1;32m      7\u001b[0m \u001b[0;32mfor\u001b[0m \u001b[0mdata\u001b[0m \u001b[0;32min\u001b[0m \u001b[0mrange\u001b[0m\u001b[0;34m(\u001b[0m\u001b[0mlen\u001b[0m\u001b[0;34m(\u001b[0m\u001b[0mTest\u001b[0m\u001b[0;34m)\u001b[0m\u001b[0;34m)\u001b[0m\u001b[0;34m:\u001b[0m\u001b[0;34m\u001b[0m\u001b[0;34m\u001b[0m\u001b[0m\n\u001b[1;32m      8\u001b[0m   \u001b[0mmodel\u001b[0m \u001b[0;34m=\u001b[0m \u001b[0mARIMA\u001b[0m\u001b[0;34m(\u001b[0m\u001b[0mTrain\u001b[0m\u001b[0;34m,\u001b[0m \u001b[0morder\u001b[0m\u001b[0;34m=\u001b[0m \u001b[0;34m(\u001b[0m\u001b[0;36m5\u001b[0m\u001b[0;34m,\u001b[0m\u001b[0;36m0\u001b[0m\u001b[0;34m,\u001b[0m\u001b[0;36m2\u001b[0m\u001b[0;34m)\u001b[0m\u001b[0;34m)\u001b[0m\u001b[0;34m\u001b[0m\u001b[0;34m\u001b[0m\u001b[0m\n\u001b[0;32m----> 9\u001b[0;31m   \u001b[0mmodel_fit\u001b[0m \u001b[0;34m=\u001b[0m \u001b[0mmodel\u001b[0m\u001b[0;34m.\u001b[0m\u001b[0mfit\u001b[0m\u001b[0;34m(\u001b[0m\u001b[0;34m)\u001b[0m\u001b[0;34m\u001b[0m\u001b[0;34m\u001b[0m\u001b[0m\n\u001b[0m\u001b[1;32m     10\u001b[0m   \u001b[0mout\u001b[0m \u001b[0;34m=\u001b[0m \u001b[0mmodel_fit\u001b[0m\u001b[0;34m.\u001b[0m\u001b[0mforecast\u001b[0m\u001b[0;34m(\u001b[0m\u001b[0;34m)\u001b[0m\u001b[0;34m\u001b[0m\u001b[0;34m\u001b[0m\u001b[0m\n\u001b[1;32m     11\u001b[0m \u001b[0;34m\u001b[0m\u001b[0m\n",
            "\u001b[0;32m/usr/local/lib/python3.7/dist-packages/statsmodels/tsa/arima_model.py\u001b[0m in \u001b[0;36mfit\u001b[0;34m(self, start_params, trend, method, transparams, solver, maxiter, full_output, disp, callback, start_ar_lags, **kwargs)\u001b[0m\n\u001b[1;32m    949\u001b[0m                                        \u001b[0mmaxiter\u001b[0m\u001b[0;34m=\u001b[0m\u001b[0mmaxiter\u001b[0m\u001b[0;34m,\u001b[0m\u001b[0;34m\u001b[0m\u001b[0;34m\u001b[0m\u001b[0m\n\u001b[1;32m    950\u001b[0m                                        \u001b[0mfull_output\u001b[0m\u001b[0;34m=\u001b[0m\u001b[0mfull_output\u001b[0m\u001b[0;34m,\u001b[0m \u001b[0mdisp\u001b[0m\u001b[0;34m=\u001b[0m\u001b[0mdisp\u001b[0m\u001b[0;34m,\u001b[0m\u001b[0;34m\u001b[0m\u001b[0;34m\u001b[0m\u001b[0m\n\u001b[0;32m--> 951\u001b[0;31m                                        callback=callback, **kwargs)\n\u001b[0m\u001b[1;32m    952\u001b[0m         \u001b[0mparams\u001b[0m \u001b[0;34m=\u001b[0m \u001b[0mmlefit\u001b[0m\u001b[0;34m.\u001b[0m\u001b[0mparams\u001b[0m\u001b[0;34m\u001b[0m\u001b[0;34m\u001b[0m\u001b[0m\n\u001b[1;32m    953\u001b[0m \u001b[0;34m\u001b[0m\u001b[0m\n",
            "\u001b[0;32m/usr/local/lib/python3.7/dist-packages/statsmodels/base/model.py\u001b[0m in \u001b[0;36mfit\u001b[0;34m(self, start_params, method, maxiter, full_output, disp, fargs, callback, retall, skip_hessian, **kwargs)\u001b[0m\n\u001b[1;32m    468\u001b[0m                                                        \u001b[0mcallback\u001b[0m\u001b[0;34m=\u001b[0m\u001b[0mcallback\u001b[0m\u001b[0;34m,\u001b[0m\u001b[0;34m\u001b[0m\u001b[0;34m\u001b[0m\u001b[0m\n\u001b[1;32m    469\u001b[0m                                                        \u001b[0mretall\u001b[0m\u001b[0;34m=\u001b[0m\u001b[0mretall\u001b[0m\u001b[0;34m,\u001b[0m\u001b[0;34m\u001b[0m\u001b[0;34m\u001b[0m\u001b[0m\n\u001b[0;32m--> 470\u001b[0;31m                                                        full_output=full_output)\n\u001b[0m\u001b[1;32m    471\u001b[0m \u001b[0;34m\u001b[0m\u001b[0m\n\u001b[1;32m    472\u001b[0m         \u001b[0;31m# NOTE: this is for fit_regularized and should be generalized\u001b[0m\u001b[0;34m\u001b[0m\u001b[0;34m\u001b[0m\u001b[0;34m\u001b[0m\u001b[0m\n",
            "\u001b[0;32m/usr/local/lib/python3.7/dist-packages/statsmodels/base/optimizer.py\u001b[0m in \u001b[0;36m_fit\u001b[0;34m(self, objective, gradient, start_params, fargs, kwargs, hessian, method, maxiter, full_output, disp, callback, retall)\u001b[0m\n\u001b[1;32m    217\u001b[0m                             \u001b[0mdisp\u001b[0m\u001b[0;34m=\u001b[0m\u001b[0mdisp\u001b[0m\u001b[0;34m,\u001b[0m \u001b[0mmaxiter\u001b[0m\u001b[0;34m=\u001b[0m\u001b[0mmaxiter\u001b[0m\u001b[0;34m,\u001b[0m \u001b[0mcallback\u001b[0m\u001b[0;34m=\u001b[0m\u001b[0mcallback\u001b[0m\u001b[0;34m,\u001b[0m\u001b[0;34m\u001b[0m\u001b[0;34m\u001b[0m\u001b[0m\n\u001b[1;32m    218\u001b[0m                             \u001b[0mretall\u001b[0m\u001b[0;34m=\u001b[0m\u001b[0mretall\u001b[0m\u001b[0;34m,\u001b[0m \u001b[0mfull_output\u001b[0m\u001b[0;34m=\u001b[0m\u001b[0mfull_output\u001b[0m\u001b[0;34m,\u001b[0m\u001b[0;34m\u001b[0m\u001b[0;34m\u001b[0m\u001b[0m\n\u001b[0;32m--> 219\u001b[0;31m                             hess=hessian)\n\u001b[0m\u001b[1;32m    220\u001b[0m \u001b[0;34m\u001b[0m\u001b[0m\n\u001b[1;32m    221\u001b[0m         optim_settings = {'optimizer': method, 'start_params': start_params,\n",
            "\u001b[0;32m/usr/local/lib/python3.7/dist-packages/statsmodels/base/optimizer.py\u001b[0m in \u001b[0;36m_fit_lbfgs\u001b[0;34m(f, score, start_params, fargs, kwargs, disp, maxiter, callback, retall, full_output, hess)\u001b[0m\n\u001b[1;32m    437\u001b[0m                                      \u001b[0mcallback\u001b[0m\u001b[0;34m=\u001b[0m\u001b[0mcallback\u001b[0m\u001b[0;34m,\u001b[0m \u001b[0margs\u001b[0m\u001b[0;34m=\u001b[0m\u001b[0mfargs\u001b[0m\u001b[0;34m,\u001b[0m\u001b[0;34m\u001b[0m\u001b[0;34m\u001b[0m\u001b[0m\n\u001b[1;32m    438\u001b[0m                                      \u001b[0mbounds\u001b[0m\u001b[0;34m=\u001b[0m\u001b[0mbounds\u001b[0m\u001b[0;34m,\u001b[0m \u001b[0mdisp\u001b[0m\u001b[0;34m=\u001b[0m\u001b[0mdisp\u001b[0m\u001b[0;34m,\u001b[0m\u001b[0;34m\u001b[0m\u001b[0;34m\u001b[0m\u001b[0m\n\u001b[0;32m--> 439\u001b[0;31m                                      **extra_kwargs)\n\u001b[0m\u001b[1;32m    440\u001b[0m \u001b[0;34m\u001b[0m\u001b[0m\n\u001b[1;32m    441\u001b[0m     \u001b[0;32mif\u001b[0m \u001b[0mfull_output\u001b[0m\u001b[0;34m:\u001b[0m\u001b[0;34m\u001b[0m\u001b[0;34m\u001b[0m\u001b[0m\n",
            "\u001b[0;32m/usr/local/lib/python3.7/dist-packages/scipy/optimize/lbfgsb.py\u001b[0m in \u001b[0;36mfmin_l_bfgs_b\u001b[0;34m(func, x0, fprime, args, approx_grad, bounds, m, factr, pgtol, epsilon, iprint, maxfun, maxiter, disp, callback, maxls)\u001b[0m\n\u001b[1;32m    197\u001b[0m \u001b[0;34m\u001b[0m\u001b[0m\n\u001b[1;32m    198\u001b[0m     res = _minimize_lbfgsb(fun, x0, args=args, jac=jac, bounds=bounds,\n\u001b[0;32m--> 199\u001b[0;31m                            **opts)\n\u001b[0m\u001b[1;32m    200\u001b[0m     d = {'grad': res['jac'],\n\u001b[1;32m    201\u001b[0m          \u001b[0;34m'task'\u001b[0m\u001b[0;34m:\u001b[0m \u001b[0mres\u001b[0m\u001b[0;34m[\u001b[0m\u001b[0;34m'message'\u001b[0m\u001b[0;34m]\u001b[0m\u001b[0;34m,\u001b[0m\u001b[0;34m\u001b[0m\u001b[0;34m\u001b[0m\u001b[0m\n",
            "\u001b[0;32m/usr/local/lib/python3.7/dist-packages/scipy/optimize/lbfgsb.py\u001b[0m in \u001b[0;36m_minimize_lbfgsb\u001b[0;34m(fun, x0, args, jac, bounds, disp, maxcor, ftol, gtol, eps, maxfun, maxiter, iprint, callback, maxls, **unknown_options)\u001b[0m\n\u001b[1;32m    343\u001b[0m             \u001b[0;31m# until the completion of the current minimization iteration.\u001b[0m\u001b[0;34m\u001b[0m\u001b[0;34m\u001b[0m\u001b[0;34m\u001b[0m\u001b[0m\n\u001b[1;32m    344\u001b[0m             \u001b[0;31m# Overwrite f and g:\u001b[0m\u001b[0;34m\u001b[0m\u001b[0;34m\u001b[0m\u001b[0;34m\u001b[0m\u001b[0m\n\u001b[0;32m--> 345\u001b[0;31m             \u001b[0mf\u001b[0m\u001b[0;34m,\u001b[0m \u001b[0mg\u001b[0m \u001b[0;34m=\u001b[0m \u001b[0mfunc_and_grad\u001b[0m\u001b[0;34m(\u001b[0m\u001b[0mx\u001b[0m\u001b[0;34m)\u001b[0m\u001b[0;34m\u001b[0m\u001b[0;34m\u001b[0m\u001b[0m\n\u001b[0m\u001b[1;32m    346\u001b[0m         \u001b[0;32melif\u001b[0m \u001b[0mtask_str\u001b[0m\u001b[0;34m.\u001b[0m\u001b[0mstartswith\u001b[0m\u001b[0;34m(\u001b[0m\u001b[0;34mb'NEW_X'\u001b[0m\u001b[0;34m)\u001b[0m\u001b[0;34m:\u001b[0m\u001b[0;34m\u001b[0m\u001b[0;34m\u001b[0m\u001b[0m\n\u001b[1;32m    347\u001b[0m             \u001b[0;31m# new iteration\u001b[0m\u001b[0;34m\u001b[0m\u001b[0;34m\u001b[0m\u001b[0;34m\u001b[0m\u001b[0m\n",
            "\u001b[0;32m/usr/local/lib/python3.7/dist-packages/scipy/optimize/lbfgsb.py\u001b[0m in \u001b[0;36mfunc_and_grad\u001b[0;34m(x)\u001b[0m\n\u001b[1;32m    289\u001b[0m         \u001b[0;32mdef\u001b[0m \u001b[0mfunc_and_grad\u001b[0m\u001b[0;34m(\u001b[0m\u001b[0mx\u001b[0m\u001b[0;34m)\u001b[0m\u001b[0;34m:\u001b[0m\u001b[0;34m\u001b[0m\u001b[0;34m\u001b[0m\u001b[0m\n\u001b[1;32m    290\u001b[0m             \u001b[0mf\u001b[0m \u001b[0;34m=\u001b[0m \u001b[0mfun\u001b[0m\u001b[0;34m(\u001b[0m\u001b[0mx\u001b[0m\u001b[0;34m,\u001b[0m \u001b[0;34m*\u001b[0m\u001b[0margs\u001b[0m\u001b[0;34m)\u001b[0m\u001b[0;34m\u001b[0m\u001b[0;34m\u001b[0m\u001b[0m\n\u001b[0;32m--> 291\u001b[0;31m             \u001b[0mg\u001b[0m \u001b[0;34m=\u001b[0m \u001b[0m_approx_fprime_helper\u001b[0m\u001b[0;34m(\u001b[0m\u001b[0mx\u001b[0m\u001b[0;34m,\u001b[0m \u001b[0mfun\u001b[0m\u001b[0;34m,\u001b[0m \u001b[0mepsilon\u001b[0m\u001b[0;34m,\u001b[0m \u001b[0margs\u001b[0m\u001b[0;34m=\u001b[0m\u001b[0margs\u001b[0m\u001b[0;34m,\u001b[0m \u001b[0mf0\u001b[0m\u001b[0;34m=\u001b[0m\u001b[0mf\u001b[0m\u001b[0;34m)\u001b[0m\u001b[0;34m\u001b[0m\u001b[0;34m\u001b[0m\u001b[0m\n\u001b[0m\u001b[1;32m    292\u001b[0m             \u001b[0;32mreturn\u001b[0m \u001b[0mf\u001b[0m\u001b[0;34m,\u001b[0m \u001b[0mg\u001b[0m\u001b[0;34m\u001b[0m\u001b[0;34m\u001b[0m\u001b[0m\n\u001b[1;32m    293\u001b[0m     \u001b[0;32melse\u001b[0m\u001b[0;34m:\u001b[0m\u001b[0;34m\u001b[0m\u001b[0;34m\u001b[0m\u001b[0m\n",
            "\u001b[0;32m/usr/local/lib/python3.7/dist-packages/scipy/optimize/optimize.py\u001b[0m in \u001b[0;36m_approx_fprime_helper\u001b[0;34m(xk, f, epsilon, args, f0)\u001b[0m\n\u001b[1;32m    695\u001b[0m         \u001b[0mei\u001b[0m\u001b[0;34m[\u001b[0m\u001b[0mk\u001b[0m\u001b[0;34m]\u001b[0m \u001b[0;34m=\u001b[0m \u001b[0;36m1.0\u001b[0m\u001b[0;34m\u001b[0m\u001b[0;34m\u001b[0m\u001b[0m\n\u001b[1;32m    696\u001b[0m         \u001b[0md\u001b[0m \u001b[0;34m=\u001b[0m \u001b[0mepsilon\u001b[0m \u001b[0;34m*\u001b[0m \u001b[0mei\u001b[0m\u001b[0;34m\u001b[0m\u001b[0;34m\u001b[0m\u001b[0m\n\u001b[0;32m--> 697\u001b[0;31m         \u001b[0mdf\u001b[0m \u001b[0;34m=\u001b[0m \u001b[0;34m(\u001b[0m\u001b[0mf\u001b[0m\u001b[0;34m(\u001b[0m\u001b[0;34m*\u001b[0m\u001b[0;34m(\u001b[0m\u001b[0;34m(\u001b[0m\u001b[0mxk\u001b[0m \u001b[0;34m+\u001b[0m \u001b[0md\u001b[0m\u001b[0;34m,\u001b[0m\u001b[0;34m)\u001b[0m \u001b[0;34m+\u001b[0m \u001b[0margs\u001b[0m\u001b[0;34m)\u001b[0m\u001b[0;34m)\u001b[0m \u001b[0;34m-\u001b[0m \u001b[0mf0\u001b[0m\u001b[0;34m)\u001b[0m \u001b[0;34m/\u001b[0m \u001b[0md\u001b[0m\u001b[0;34m[\u001b[0m\u001b[0mk\u001b[0m\u001b[0;34m]\u001b[0m\u001b[0;34m\u001b[0m\u001b[0;34m\u001b[0m\u001b[0m\n\u001b[0m\u001b[1;32m    698\u001b[0m         \u001b[0;32mif\u001b[0m \u001b[0;32mnot\u001b[0m \u001b[0mnp\u001b[0m\u001b[0;34m.\u001b[0m\u001b[0misscalar\u001b[0m\u001b[0;34m(\u001b[0m\u001b[0mdf\u001b[0m\u001b[0;34m)\u001b[0m\u001b[0;34m:\u001b[0m\u001b[0;34m\u001b[0m\u001b[0;34m\u001b[0m\u001b[0m\n\u001b[1;32m    699\u001b[0m             \u001b[0;32mtry\u001b[0m\u001b[0;34m:\u001b[0m\u001b[0;34m\u001b[0m\u001b[0;34m\u001b[0m\u001b[0m\n",
            "\u001b[0;32m/usr/local/lib/python3.7/dist-packages/scipy/optimize/optimize.py\u001b[0m in \u001b[0;36mfunction_wrapper\u001b[0;34m(*wrapper_args)\u001b[0m\n\u001b[1;32m    325\u001b[0m     \u001b[0;32mdef\u001b[0m \u001b[0mfunction_wrapper\u001b[0m\u001b[0;34m(\u001b[0m\u001b[0;34m*\u001b[0m\u001b[0mwrapper_args\u001b[0m\u001b[0;34m)\u001b[0m\u001b[0;34m:\u001b[0m\u001b[0;34m\u001b[0m\u001b[0;34m\u001b[0m\u001b[0m\n\u001b[1;32m    326\u001b[0m         \u001b[0mncalls\u001b[0m\u001b[0;34m[\u001b[0m\u001b[0;36m0\u001b[0m\u001b[0;34m]\u001b[0m \u001b[0;34m+=\u001b[0m \u001b[0;36m1\u001b[0m\u001b[0;34m\u001b[0m\u001b[0;34m\u001b[0m\u001b[0m\n\u001b[0;32m--> 327\u001b[0;31m         \u001b[0;32mreturn\u001b[0m \u001b[0mfunction\u001b[0m\u001b[0;34m(\u001b[0m\u001b[0;34m*\u001b[0m\u001b[0;34m(\u001b[0m\u001b[0mwrapper_args\u001b[0m \u001b[0;34m+\u001b[0m \u001b[0margs\u001b[0m\u001b[0;34m)\u001b[0m\u001b[0;34m)\u001b[0m\u001b[0;34m\u001b[0m\u001b[0;34m\u001b[0m\u001b[0m\n\u001b[0m\u001b[1;32m    328\u001b[0m \u001b[0;34m\u001b[0m\u001b[0m\n\u001b[1;32m    329\u001b[0m     \u001b[0;32mreturn\u001b[0m \u001b[0mncalls\u001b[0m\u001b[0;34m,\u001b[0m \u001b[0mfunction_wrapper\u001b[0m\u001b[0;34m\u001b[0m\u001b[0;34m\u001b[0m\u001b[0m\n",
            "\u001b[0;32m/usr/local/lib/python3.7/dist-packages/statsmodels/base/model.py\u001b[0m in \u001b[0;36mf\u001b[0;34m(params, *args)\u001b[0m\n\u001b[1;32m    442\u001b[0m \u001b[0;34m\u001b[0m\u001b[0m\n\u001b[1;32m    443\u001b[0m         \u001b[0;32mdef\u001b[0m \u001b[0mf\u001b[0m\u001b[0;34m(\u001b[0m\u001b[0mparams\u001b[0m\u001b[0;34m,\u001b[0m \u001b[0;34m*\u001b[0m\u001b[0margs\u001b[0m\u001b[0;34m)\u001b[0m\u001b[0;34m:\u001b[0m\u001b[0;34m\u001b[0m\u001b[0;34m\u001b[0m\u001b[0m\n\u001b[0;32m--> 444\u001b[0;31m             \u001b[0;32mreturn\u001b[0m \u001b[0;34m-\u001b[0m\u001b[0mself\u001b[0m\u001b[0;34m.\u001b[0m\u001b[0mloglike\u001b[0m\u001b[0;34m(\u001b[0m\u001b[0mparams\u001b[0m\u001b[0;34m,\u001b[0m \u001b[0;34m*\u001b[0m\u001b[0margs\u001b[0m\u001b[0;34m)\u001b[0m \u001b[0;34m/\u001b[0m \u001b[0mnobs\u001b[0m\u001b[0;34m\u001b[0m\u001b[0;34m\u001b[0m\u001b[0m\n\u001b[0m\u001b[1;32m    445\u001b[0m \u001b[0;34m\u001b[0m\u001b[0m\n\u001b[1;32m    446\u001b[0m         \u001b[0;32mif\u001b[0m \u001b[0mmethod\u001b[0m \u001b[0;34m==\u001b[0m \u001b[0;34m'newton'\u001b[0m\u001b[0;34m:\u001b[0m\u001b[0;34m\u001b[0m\u001b[0;34m\u001b[0m\u001b[0m\n",
            "\u001b[0;32m/usr/local/lib/python3.7/dist-packages/statsmodels/tsa/arima_model.py\u001b[0m in \u001b[0;36mloglike\u001b[0;34m(self, params, set_sigma2)\u001b[0m\n\u001b[1;32m    770\u001b[0m         \u001b[0mmethod\u001b[0m \u001b[0;34m=\u001b[0m \u001b[0mself\u001b[0m\u001b[0;34m.\u001b[0m\u001b[0mmethod\u001b[0m\u001b[0;34m\u001b[0m\u001b[0;34m\u001b[0m\u001b[0m\n\u001b[1;32m    771\u001b[0m         \u001b[0;32mif\u001b[0m \u001b[0mmethod\u001b[0m \u001b[0;32min\u001b[0m \u001b[0;34m[\u001b[0m\u001b[0;34m'mle'\u001b[0m\u001b[0;34m,\u001b[0m \u001b[0;34m'css-mle'\u001b[0m\u001b[0;34m]\u001b[0m\u001b[0;34m:\u001b[0m\u001b[0;34m\u001b[0m\u001b[0;34m\u001b[0m\u001b[0m\n\u001b[0;32m--> 772\u001b[0;31m             \u001b[0;32mreturn\u001b[0m \u001b[0mself\u001b[0m\u001b[0;34m.\u001b[0m\u001b[0mloglike_kalman\u001b[0m\u001b[0;34m(\u001b[0m\u001b[0mparams\u001b[0m\u001b[0;34m,\u001b[0m \u001b[0mset_sigma2\u001b[0m\u001b[0;34m)\u001b[0m\u001b[0;34m\u001b[0m\u001b[0;34m\u001b[0m\u001b[0m\n\u001b[0m\u001b[1;32m    773\u001b[0m         \u001b[0;32melif\u001b[0m \u001b[0mmethod\u001b[0m \u001b[0;34m==\u001b[0m \u001b[0;34m'css'\u001b[0m\u001b[0;34m:\u001b[0m\u001b[0;34m\u001b[0m\u001b[0;34m\u001b[0m\u001b[0m\n\u001b[1;32m    774\u001b[0m             \u001b[0;32mreturn\u001b[0m \u001b[0mself\u001b[0m\u001b[0;34m.\u001b[0m\u001b[0mloglike_css\u001b[0m\u001b[0;34m(\u001b[0m\u001b[0mparams\u001b[0m\u001b[0;34m,\u001b[0m \u001b[0mset_sigma2\u001b[0m\u001b[0;34m)\u001b[0m\u001b[0;34m\u001b[0m\u001b[0;34m\u001b[0m\u001b[0m\n",
            "\u001b[0;32m/usr/local/lib/python3.7/dist-packages/statsmodels/tsa/arima_model.py\u001b[0m in \u001b[0;36mloglike_kalman\u001b[0;34m(self, params, set_sigma2)\u001b[0m\n\u001b[1;32m    780\u001b[0m         \u001b[0mCompute\u001b[0m \u001b[0mexact\u001b[0m \u001b[0mloglikelihood\u001b[0m \u001b[0;32mfor\u001b[0m \u001b[0mARMA\u001b[0m\u001b[0;34m(\u001b[0m\u001b[0mp\u001b[0m\u001b[0;34m,\u001b[0m\u001b[0mq\u001b[0m\u001b[0;34m)\u001b[0m \u001b[0mmodel\u001b[0m \u001b[0mby\u001b[0m \u001b[0mthe\u001b[0m \u001b[0mKalman\u001b[0m \u001b[0mFilter\u001b[0m\u001b[0;34m.\u001b[0m\u001b[0;34m\u001b[0m\u001b[0;34m\u001b[0m\u001b[0m\n\u001b[1;32m    781\u001b[0m         \"\"\"\n\u001b[0;32m--> 782\u001b[0;31m         \u001b[0;32mreturn\u001b[0m \u001b[0mKalmanFilter\u001b[0m\u001b[0;34m.\u001b[0m\u001b[0mloglike\u001b[0m\u001b[0;34m(\u001b[0m\u001b[0mparams\u001b[0m\u001b[0;34m,\u001b[0m \u001b[0mself\u001b[0m\u001b[0;34m,\u001b[0m \u001b[0mset_sigma2\u001b[0m\u001b[0;34m)\u001b[0m\u001b[0;34m\u001b[0m\u001b[0;34m\u001b[0m\u001b[0m\n\u001b[0m\u001b[1;32m    783\u001b[0m \u001b[0;34m\u001b[0m\u001b[0m\n\u001b[1;32m    784\u001b[0m     \u001b[0;32mdef\u001b[0m \u001b[0mloglike_css\u001b[0m\u001b[0;34m(\u001b[0m\u001b[0mself\u001b[0m\u001b[0;34m,\u001b[0m \u001b[0mparams\u001b[0m\u001b[0;34m,\u001b[0m \u001b[0mset_sigma2\u001b[0m\u001b[0;34m=\u001b[0m\u001b[0;32mTrue\u001b[0m\u001b[0;34m)\u001b[0m\u001b[0;34m:\u001b[0m\u001b[0;34m\u001b[0m\u001b[0;34m\u001b[0m\u001b[0m\n",
            "\u001b[0;32m/usr/local/lib/python3.7/dist-packages/statsmodels/tsa/kalmanf/kalmanfilter.py\u001b[0m in \u001b[0;36mloglike\u001b[0;34m(cls, params, arma_model, set_sigma2)\u001b[0m\n\u001b[1;32m    219\u001b[0m             loglike, sigma2 = kalman_loglike.kalman_loglike_double(\n\u001b[1;32m    220\u001b[0m                 \u001b[0my\u001b[0m\u001b[0;34m,\u001b[0m \u001b[0mk\u001b[0m\u001b[0;34m,\u001b[0m \u001b[0mk_ar\u001b[0m\u001b[0;34m,\u001b[0m \u001b[0mk_ma\u001b[0m\u001b[0;34m,\u001b[0m \u001b[0mk_lags\u001b[0m\u001b[0;34m,\u001b[0m \u001b[0mint\u001b[0m\u001b[0;34m(\u001b[0m\u001b[0mnobs\u001b[0m\u001b[0;34m)\u001b[0m\u001b[0;34m,\u001b[0m\u001b[0;34m\u001b[0m\u001b[0;34m\u001b[0m\u001b[0m\n\u001b[0;32m--> 221\u001b[0;31m                 Z_mat, R_mat, T_mat)\n\u001b[0m\u001b[1;32m    222\u001b[0m         \u001b[0;32melif\u001b[0m \u001b[0mnp\u001b[0m\u001b[0;34m.\u001b[0m\u001b[0missubdtype\u001b[0m\u001b[0;34m(\u001b[0m\u001b[0mparamsdtype\u001b[0m\u001b[0;34m,\u001b[0m \u001b[0mnp\u001b[0m\u001b[0;34m.\u001b[0m\u001b[0mcomplex128\u001b[0m\u001b[0;34m)\u001b[0m\u001b[0;34m:\u001b[0m\u001b[0;34m\u001b[0m\u001b[0;34m\u001b[0m\u001b[0m\n\u001b[1;32m    223\u001b[0m             loglike, sigma2 = kalman_loglike.kalman_loglike_complex(\n",
            "\u001b[0;32mstatsmodels/tsa/kalmanf/kalman_loglike.pyx\u001b[0m in \u001b[0;36mstatsmodels.tsa.kalmanf.kalman_loglike.kalman_loglike_double\u001b[0;34m()\u001b[0m\n",
            "\u001b[0;32m<__array_function__ internals>\u001b[0m in \u001b[0;36msum\u001b[0;34m(*args, **kwargs)\u001b[0m\n",
            "\u001b[0;31mKeyboardInterrupt\u001b[0m: "
          ]
        }
      ]
    },
    {
      "cell_type": "code",
      "metadata": {
        "colab": {
          "base_uri": "https://localhost:8080/",
          "height": 544
        },
        "id": "QdbSefyUtUuq",
        "outputId": "427a2b92-dea1-41ca-f6f9-1fb6c16a3725"
      },
      "source": [
        "model_fit.summary()"
      ],
      "execution_count": 63,
      "outputs": [
        {
          "output_type": "execute_result",
          "data": {
            "text/html": [
              "<table class=\"simpletable\">\n",
              "<caption>ARMA Model Results</caption>\n",
              "<tr>\n",
              "  <th>Dep. Variable:</th>         <td>y</td>        <th>  No. Observations:  </th>   <td>2098</td>   \n",
              "</tr>\n",
              "<tr>\n",
              "  <th>Model:</th>            <td>ARMA(5, 2)</td>    <th>  Log Likelihood     </th> <td>-9727.283</td>\n",
              "</tr>\n",
              "<tr>\n",
              "  <th>Method:</th>             <td>css-mle</td>     <th>  S.D. of innovations</th>  <td>24.950</td>  \n",
              "</tr>\n",
              "<tr>\n",
              "  <th>Date:</th>          <td>Sat, 08 May 2021</td> <th>  AIC                </th> <td>19472.567</td>\n",
              "</tr>\n",
              "<tr>\n",
              "  <th>Time:</th>              <td>16:17:42</td>     <th>  BIC                </th> <td>19523.405</td>\n",
              "</tr>\n",
              "<tr>\n",
              "  <th>Sample:</th>                <td>0</td>        <th>  HQIC               </th> <td>19491.188</td>\n",
              "</tr>\n",
              "<tr>\n",
              "  <th></th>                       <td> </td>        <th>                     </th>     <td> </td>    \n",
              "</tr>\n",
              "</table>\n",
              "<table class=\"simpletable\">\n",
              "<tr>\n",
              "     <td></td>        <th>coef</th>     <th>std err</th>      <th>z</th>      <th>P>|z|</th>  <th>[0.025</th>    <th>0.975]</th>  \n",
              "</tr>\n",
              "<tr>\n",
              "  <th>const</th>   <td>   75.6075</td> <td>    6.156</td> <td>   12.283</td> <td> 0.000</td> <td>   63.543</td> <td>   87.672</td>\n",
              "</tr>\n",
              "<tr>\n",
              "  <th>ar.L1.y</th> <td>    2.2618</td> <td>    0.037</td> <td>   60.318</td> <td> 0.000</td> <td>    2.188</td> <td>    2.335</td>\n",
              "</tr>\n",
              "<tr>\n",
              "  <th>ar.L2.y</th> <td>   -1.5375</td> <td>    0.072</td> <td>  -21.278</td> <td> 0.000</td> <td>   -1.679</td> <td>   -1.396</td>\n",
              "</tr>\n",
              "<tr>\n",
              "  <th>ar.L3.y</th> <td>    0.2259</td> <td>    0.067</td> <td>    3.390</td> <td> 0.001</td> <td>    0.095</td> <td>    0.357</td>\n",
              "</tr>\n",
              "<tr>\n",
              "  <th>ar.L4.y</th> <td>    0.0810</td> <td>    0.056</td> <td>    1.440</td> <td> 0.150</td> <td>   -0.029</td> <td>    0.191</td>\n",
              "</tr>\n",
              "<tr>\n",
              "  <th>ar.L5.y</th> <td>   -0.0332</td> <td>    0.026</td> <td>   -1.280</td> <td> 0.201</td> <td>   -0.084</td> <td>    0.018</td>\n",
              "</tr>\n",
              "<tr>\n",
              "  <th>ma.L1.y</th> <td>   -1.7728</td> <td>    0.030</td> <td>  -59.818</td> <td> 0.000</td> <td>   -1.831</td> <td>   -1.715</td>\n",
              "</tr>\n",
              "<tr>\n",
              "  <th>ma.L2.y</th> <td>    0.7956</td> <td>    0.030</td> <td>   26.310</td> <td> 0.000</td> <td>    0.736</td> <td>    0.855</td>\n",
              "</tr>\n",
              "</table>\n",
              "<table class=\"simpletable\">\n",
              "<caption>Roots</caption>\n",
              "<tr>\n",
              "    <td></td>   <th>            Real</th>  <th>         Imaginary</th> <th>         Modulus</th>  <th>        Frequency</th>\n",
              "</tr>\n",
              "<tr>\n",
              "  <th>AR.1</th> <td>           1.0155</td> <td>          -0.0515j</td> <td>           1.0168</td> <td>          -0.0081</td>\n",
              "</tr>\n",
              "<tr>\n",
              "  <th>AR.2</th> <td>           1.0155</td> <td>          +0.0515j</td> <td>           1.0168</td> <td>           0.0081</td>\n",
              "</tr>\n",
              "<tr>\n",
              "  <th>AR.3</th> <td>          -3.8328</td> <td>          -0.0000j</td> <td>           3.8328</td> <td>          -0.5000</td>\n",
              "</tr>\n",
              "<tr>\n",
              "  <th>AR.4</th> <td>           2.1186</td> <td>          -1.7612j</td> <td>           2.7550</td> <td>          -0.1104</td>\n",
              "</tr>\n",
              "<tr>\n",
              "  <th>AR.5</th> <td>           2.1186</td> <td>          +1.7612j</td> <td>           2.7550</td> <td>           0.1104</td>\n",
              "</tr>\n",
              "<tr>\n",
              "  <th>MA.1</th> <td>           1.1141</td> <td>          -0.1253j</td> <td>           1.1211</td> <td>          -0.0178</td>\n",
              "</tr>\n",
              "<tr>\n",
              "  <th>MA.2</th> <td>           1.1141</td> <td>          +0.1253j</td> <td>           1.1211</td> <td>           0.0178</td>\n",
              "</tr>\n",
              "</table>"
            ],
            "text/plain": [
              "<class 'statsmodels.iolib.summary.Summary'>\n",
              "\"\"\"\n",
              "                              ARMA Model Results                              \n",
              "==============================================================================\n",
              "Dep. Variable:                      y   No. Observations:                 2098\n",
              "Model:                     ARMA(5, 2)   Log Likelihood               -9727.283\n",
              "Method:                       css-mle   S.D. of innovations             24.950\n",
              "Date:                Sat, 08 May 2021   AIC                          19472.567\n",
              "Time:                        16:17:42   BIC                          19523.405\n",
              "Sample:                             0   HQIC                         19491.188\n",
              "                                                                              \n",
              "==============================================================================\n",
              "                 coef    std err          z      P>|z|      [0.025      0.975]\n",
              "------------------------------------------------------------------------------\n",
              "const         75.6075      6.156     12.283      0.000      63.543      87.672\n",
              "ar.L1.y        2.2618      0.037     60.318      0.000       2.188       2.335\n",
              "ar.L2.y       -1.5375      0.072    -21.278      0.000      -1.679      -1.396\n",
              "ar.L3.y        0.2259      0.067      3.390      0.001       0.095       0.357\n",
              "ar.L4.y        0.0810      0.056      1.440      0.150      -0.029       0.191\n",
              "ar.L5.y       -0.0332      0.026     -1.280      0.201      -0.084       0.018\n",
              "ma.L1.y       -1.7728      0.030    -59.818      0.000      -1.831      -1.715\n",
              "ma.L2.y        0.7956      0.030     26.310      0.000       0.736       0.855\n",
              "                                    Roots                                    \n",
              "=============================================================================\n",
              "                  Real          Imaginary           Modulus         Frequency\n",
              "-----------------------------------------------------------------------------\n",
              "AR.1            1.0155           -0.0515j            1.0168           -0.0081\n",
              "AR.2            1.0155           +0.0515j            1.0168            0.0081\n",
              "AR.3           -3.8328           -0.0000j            3.8328           -0.5000\n",
              "AR.4            2.1186           -1.7612j            2.7550           -0.1104\n",
              "AR.5            2.1186           +1.7612j            2.7550            0.1104\n",
              "MA.1            1.1141           -0.1253j            1.1211           -0.0178\n",
              "MA.2            1.1141           +0.1253j            1.1211            0.0178\n",
              "-----------------------------------------------------------------------------\n",
              "\"\"\""
            ]
          },
          "metadata": {
            "tags": []
          },
          "execution_count": 63
        }
      ]
    },
    {
      "cell_type": "markdown",
      "metadata": {
        "id": "20IxKlqqFxIC"
      },
      "source": [
        "__AIC - Akaike information criterion__\n",
        "\n",
        "Lower AIC indicates a better model\n",
        "\n",
        "AIC likes to choose simple models with lower order"
      ]
    },
    {
      "cell_type": "markdown",
      "metadata": {
        "id": "zCDczuFeF2Z4"
      },
      "source": [
        "__BIC - Bayesian information criterion__\n",
        "\n",
        "\n",
        "Lower BIC indicates a better model\n",
        "\n",
        "BIC likes to choose simple models with lower order"
      ]
    },
    {
      "cell_type": "code",
      "metadata": {
        "id": "__XH0XnT5Zog"
      },
      "source": [
        "import matplotlib as mpl\n",
        "\n",
        "mpl.rcParams['figure.figsize'] = (18, 7)\n",
        "mpl.rcParams['axes.grid'] = False\n",
        "\n",
        "# plot\n",
        "plt.plot(Test,color='black',linewidth=1)\n",
        "plt.plot(low_bound,color='red',linewidth=1)\n",
        "plt.plot(up_bound,color='green',linewidth=1)\n",
        "plt.plot(pred,linewidth=1)\n",
        "plt.show()"
      ],
      "execution_count": null,
      "outputs": []
    },
    {
      "cell_type": "markdown",
      "metadata": {
        "id": "jSAVIWYd5aKm"
      },
      "source": [
        "# Task Five: ARIMA Automation"
      ]
    },
    {
      "cell_type": "code",
      "metadata": {
        "id": "iefaVmiiG9be",
        "colab": {
          "base_uri": "https://localhost:8080/",
          "height": 513
        },
        "outputId": "8a525fc2-025a-485b-d425-3da2bc1d7d6f"
      },
      "source": [
        "!pip install pmdarima"
      ],
      "execution_count": 64,
      "outputs": [
        {
          "output_type": "stream",
          "text": [
            "Collecting pmdarima\n",
            "\u001b[?25l  Downloading https://files.pythonhosted.org/packages/f4/c2/2a94bce6bba1deac3c0b16dbb14f28de0b9035e3211919cae8448455aa65/pmdarima-1.8.2-cp37-cp37m-manylinux1_x86_64.whl (1.5MB)\n",
            "\u001b[K     |████████████████████████████████| 1.5MB 5.5MB/s \n",
            "\u001b[?25hRequirement already satisfied: joblib>=0.11 in /usr/local/lib/python3.7/dist-packages (from pmdarima) (1.0.1)\n",
            "Requirement already satisfied: numpy~=1.19.0 in /usr/local/lib/python3.7/dist-packages (from pmdarima) (1.19.5)\n",
            "Requirement already satisfied: urllib3 in /usr/local/lib/python3.7/dist-packages (from pmdarima) (1.24.3)\n",
            "Requirement already satisfied: Cython!=0.29.18,>=0.29 in /usr/local/lib/python3.7/dist-packages (from pmdarima) (0.29.22)\n",
            "Collecting statsmodels!=0.12.0,>=0.11\n",
            "\u001b[?25l  Downloading https://files.pythonhosted.org/packages/da/69/8eef30a6237c54f3c0b524140e2975f4b1eea3489b45eb3339574fc8acee/statsmodels-0.12.2-cp37-cp37m-manylinux1_x86_64.whl (9.5MB)\n",
            "\u001b[K     |████████████████████████████████| 9.5MB 21.1MB/s \n",
            "\u001b[?25hRequirement already satisfied: scipy>=1.3.2 in /usr/local/lib/python3.7/dist-packages (from pmdarima) (1.4.1)\n",
            "Requirement already satisfied: setuptools!=50.0.0,>=38.6.0 in /usr/local/lib/python3.7/dist-packages (from pmdarima) (56.1.0)\n",
            "Requirement already satisfied: scikit-learn>=0.22 in /usr/local/lib/python3.7/dist-packages (from pmdarima) (0.22.2.post1)\n",
            "Requirement already satisfied: pandas>=0.19 in /usr/local/lib/python3.7/dist-packages (from pmdarima) (1.1.5)\n",
            "Requirement already satisfied: patsy>=0.5 in /usr/local/lib/python3.7/dist-packages (from statsmodels!=0.12.0,>=0.11->pmdarima) (0.5.1)\n",
            "Requirement already satisfied: pytz>=2017.2 in /usr/local/lib/python3.7/dist-packages (from pandas>=0.19->pmdarima) (2018.9)\n",
            "Requirement already satisfied: python-dateutil>=2.7.3 in /usr/local/lib/python3.7/dist-packages (from pandas>=0.19->pmdarima) (2.8.1)\n",
            "Requirement already satisfied: six in /usr/local/lib/python3.7/dist-packages (from patsy>=0.5->statsmodels!=0.12.0,>=0.11->pmdarima) (1.15.0)\n",
            "Installing collected packages: statsmodels, pmdarima\n",
            "  Found existing installation: statsmodels 0.10.2\n",
            "    Uninstalling statsmodels-0.10.2:\n",
            "      Successfully uninstalled statsmodels-0.10.2\n",
            "Successfully installed pmdarima-1.8.2 statsmodels-0.12.2\n"
          ],
          "name": "stdout"
        },
        {
          "output_type": "display_data",
          "data": {
            "application/vnd.colab-display-data+json": {
              "pip_warning": {
                "packages": [
                  "statsmodels"
                ]
              }
            }
          },
          "metadata": {
            "tags": []
          }
        }
      ]
    },
    {
      "cell_type": "code",
      "metadata": {
        "id": "PIpcwOzl74MA",
        "colab": {
          "base_uri": "https://localhost:8080/"
        },
        "outputId": "f27f74a8-25a4-4ec0-bde3-e65fa388dedc"
      },
      "source": [
        "import pmdarima as pm\n",
        "\n",
        "model = pm.auto_arima(df['Monthly Mean Total Sunspot Number'], m = 11, seasonal = True,start_q =0,start_p =0, max_order=5,error_action = 'ignore', stepwise =True, trace=True )"
      ],
      "execution_count": 21,
      "outputs": [
        {
          "output_type": "stream",
          "text": [
            "Performing stepwise search to minimize aic\n",
            " ARIMA(0,0,0)(1,0,1)[11] intercept   : AIC=33844.892, Time=6.17 sec\n",
            " ARIMA(0,0,0)(0,0,0)[11] intercept   : AIC=36662.504, Time=0.10 sec\n",
            " ARIMA(1,0,0)(1,0,0)[11] intercept   : AIC=30651.060, Time=4.39 sec\n",
            " ARIMA(0,0,1)(0,0,1)[11] intercept   : AIC=33078.193, Time=4.57 sec\n",
            " ARIMA(0,0,0)(0,0,0)[11]             : AIC=39591.690, Time=0.06 sec\n",
            " ARIMA(1,0,0)(0,0,0)[11] intercept   : AIC=30655.087, Time=0.28 sec\n",
            " ARIMA(1,0,0)(2,0,0)[11] intercept   : AIC=30652.587, Time=14.97 sec\n",
            " ARIMA(1,0,0)(1,0,1)[11] intercept   : AIC=30652.715, Time=4.62 sec\n",
            " ARIMA(1,0,0)(0,0,1)[11] intercept   : AIC=30651.231, Time=3.46 sec\n",
            " ARIMA(1,0,0)(2,0,1)[11] intercept   : AIC=30654.714, Time=17.73 sec\n",
            " ARIMA(0,0,0)(1,0,0)[11] intercept   : AIC=33995.544, Time=3.37 sec\n",
            " ARIMA(2,0,0)(1,0,0)[11] intercept   : AIC=30402.095, Time=5.56 sec\n",
            " ARIMA(2,0,0)(0,0,0)[11] intercept   : AIC=30404.772, Time=0.30 sec\n",
            " ARIMA(2,0,0)(2,0,0)[11] intercept   : AIC=30403.887, Time=20.18 sec\n",
            " ARIMA(2,0,0)(1,0,1)[11] intercept   : AIC=30403.902, Time=10.75 sec\n",
            " ARIMA(2,0,0)(0,0,1)[11] intercept   : AIC=30402.179, Time=4.47 sec\n",
            " ARIMA(2,0,0)(2,0,1)[11] intercept   : AIC=30405.975, Time=19.54 sec\n",
            " ARIMA(3,0,0)(1,0,0)[11] intercept   : AIC=30279.231, Time=9.59 sec\n",
            " ARIMA(3,0,0)(0,0,0)[11] intercept   : AIC=30284.812, Time=0.38 sec\n",
            " ARIMA(3,0,0)(2,0,0)[11] intercept   : AIC=30281.146, Time=28.13 sec\n",
            " ARIMA(3,0,0)(1,0,1)[11] intercept   : AIC=30281.156, Time=13.76 sec\n",
            " ARIMA(3,0,0)(0,0,1)[11] intercept   : AIC=30279.172, Time=6.30 sec\n",
            " ARIMA(3,0,0)(0,0,2)[11] intercept   : AIC=30281.154, Time=19.97 sec\n",
            " ARIMA(3,0,0)(1,0,2)[11] intercept   : AIC=30278.317, Time=32.84 sec\n",
            " ARIMA(3,0,0)(2,0,2)[11] intercept   : AIC=30282.662, Time=38.41 sec\n",
            " ARIMA(3,0,0)(2,0,1)[11] intercept   : AIC=30277.746, Time=37.60 sec\n",
            " ARIMA(4,0,0)(2,0,1)[11] intercept   : AIC=30211.623, Time=41.58 sec\n",
            " ARIMA(4,0,0)(1,0,1)[11] intercept   : AIC=30215.791, Time=18.89 sec\n",
            " ARIMA(4,0,0)(2,0,0)[11] intercept   : AIC=30215.790, Time=30.16 sec\n",
            " ARIMA(4,0,0)(2,0,2)[11] intercept   : AIC=30204.793, Time=45.04 sec\n",
            " ARIMA(4,0,0)(1,0,2)[11] intercept   : AIC=30212.495, Time=35.19 sec\n",
            " ARIMA(5,0,0)(2,0,2)[11] intercept   : AIC=inf, Time=56.81 sec\n",
            " ARIMA(4,0,1)(2,0,2)[11] intercept   : AIC=30181.054, Time=45.60 sec\n",
            " ARIMA(4,0,1)(1,0,2)[11] intercept   : AIC=30197.882, Time=35.26 sec\n",
            " ARIMA(4,0,1)(2,0,1)[11] intercept   : AIC=30197.952, Time=48.68 sec\n",
            " ARIMA(4,0,1)(1,0,1)[11] intercept   : AIC=30195.962, Time=20.26 sec\n",
            " ARIMA(3,0,1)(2,0,2)[11] intercept   : AIC=inf, Time=46.21 sec\n",
            " ARIMA(5,0,1)(2,0,2)[11] intercept   : AIC=inf, Time=58.88 sec\n",
            " ARIMA(4,0,2)(2,0,2)[11] intercept   : AIC=30198.384, Time=53.24 sec\n",
            " ARIMA(3,0,2)(2,0,2)[11] intercept   : AIC=30186.530, Time=48.36 sec\n",
            " ARIMA(5,0,2)(2,0,2)[11] intercept   : AIC=30220.212, Time=66.20 sec\n",
            " ARIMA(4,0,1)(2,0,2)[11]             : AIC=inf, Time=26.55 sec\n",
            "\n",
            "Best model:  ARIMA(4,0,1)(2,0,2)[11] intercept\n",
            "Total fit time: 984.516 seconds\n"
          ],
          "name": "stdout"
        }
      ]
    },
    {
      "cell_type": "code",
      "metadata": {
        "id": "o8jPR48j74Vb",
        "colab": {
          "base_uri": "https://localhost:8080/",
          "height": 584
        },
        "outputId": "3934dec1-5afc-4ecd-cc37-7847b444333d"
      },
      "source": [
        "model.plot_diagnostics(figsize=(16,5))"
      ],
      "execution_count": 22,
      "outputs": [
        {
          "output_type": "execute_result",
          "data": {
            "image/png": "[encoded data removed]",
            "text/plain": [
              "<Figure size 1152x360 with 4 Axes>"
            ]
          },
          "metadata": {
            "tags": []
          },
          "execution_count": 22
        },
        {
          "output_type": "display_data",
          "data": {
            "image/png": "[encoded data removed]",
            "text/plain": [
              "<Figure size 1152x360 with 4 Axes>"
            ]
          },
          "metadata": {
            "tags": [],
            "needs_background": "light"
          }
        }
      ]
    }
  ]
}